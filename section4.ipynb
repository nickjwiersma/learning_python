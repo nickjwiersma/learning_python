{
 "cells": [
  {
   "cell_type": "code",
   "execution_count": 9,
   "metadata": {},
   "outputs": [
    {
     "name": "stdout",
     "output_type": "stream",
     "text": [
      "you are allowed to drive!\n"
     ]
    }
   ],
   "source": [
    "\n",
    "is_old_enough = True\n",
    "is_licensed = True\n",
    "\n",
    "if is_old_enough and is_licensed:\n",
    "    print('you are allowed to drive!')\n",
    "else:\n",
    "    print('you are not allowed to drive')"
   ]
  },
  {
   "cell_type": "code",
   "execution_count": 10,
   "metadata": {},
   "outputs": [],
   "source": [
    "# Truthy and Falsey booleans\n",
    "# on = truthy\n",
    "# off = falsey"
   ]
  },
  {
   "cell_type": "code",
   "execution_count": 14,
   "metadata": {},
   "outputs": [
    {
     "name": "stdout",
     "output_type": "stream",
     "text": [
      "not allowed to message\n"
     ]
    }
   ],
   "source": [
    "# ternary operator (conditional expressions)\n",
    "\n",
    "# condition_if_True if condition else condition_if_False\n",
    "\n",
    "is_friend = False\n",
    "can_message = \"message allowed\" if is_friend else \"not allowed to message\"\n",
    "\n",
    "print(can_message)"
   ]
  },
  {
   "cell_type": "code",
   "execution_count": 8,
   "metadata": {},
   "outputs": [
    {
     "name": "stdout",
     "output_type": "stream",
     "text": [
      "best friends\n"
     ]
    }
   ],
   "source": [
    "# short cirquiting\n",
    "# meaning that if the first of the statements meets the requirements breaks the or runs the program\n",
    "is_friend = True\n",
    "is_user = False\n",
    "if is_friend or is_user:\n",
    "    print('best friends')"
   ]
  },
  {
   "cell_type": "code",
   "execution_count": 12,
   "metadata": {},
   "outputs": [
    {
     "name": "stdout",
     "output_type": "stream",
     "text": [
      "Youre not a magician: \"you need magic powers\"\n"
     ]
    }
   ],
   "source": [
    "is_magician = False\n",
    "is_expert = False\n",
    "\n",
    "\n",
    "if is_magician and is_expert:\n",
    "    print('you are a master magician!')\n",
    "elif is_magician or is_expert:\n",
    "    print(\"at least you're getting there.\")\n",
    "else:\n",
    "    print(\"Youre not a magician: \\\"you need magic powers\\\"\")"
   ]
  },
  {
   "cell_type": "code",
   "execution_count": 17,
   "metadata": {},
   "outputs": [
    {
     "name": "stdout",
     "output_type": "stream",
     "text": [
      "True\n",
      "False\n",
      "False\n",
      "True\n",
      "False\n"
     ]
    }
   ],
   "source": [
    "print(True == 1)\n",
    "print('' == 1)\n",
    "print([] == 1)\n",
    "print(10 == 10.0)\n",
    "print([1,2,3] == (1,2,3))"
   ]
  },
  {
   "cell_type": "code",
   "execution_count": 25,
   "metadata": {},
   "outputs": [
    {
     "name": "stdout",
     "output_type": "stream",
     "text": [
      "2\n",
      "4\n",
      "6\n",
      "8\n",
      "10\n",
      "12\n",
      "14\n",
      "16\n",
      "18\n",
      "20\n"
     ]
    }
   ],
   "source": [
    "# counter\n",
    "my_list = [1,2,3,4,5,6,7,8,9,10]\n",
    "for item in my_list:\n",
    "    print(item + item)\n",
    "    "
   ]
  },
  {
   "cell_type": "code",
   "execution_count": 31,
   "metadata": {},
   "outputs": [
    {
     "name": "stdout",
     "output_type": "stream",
     "text": [
      "1\n",
      "3\n",
      "6\n",
      "10\n",
      "15\n",
      "21\n",
      "28\n",
      "36\n",
      "45\n",
      "55\n",
      "----\n",
      "110\n"
     ]
    }
   ],
   "source": [
    "my_list = [1,2,3,4,5,6,7,8,9,10]\n",
    "\n",
    "counter = 0\n",
    "for item in my_list:\n",
    "    counter = counter + item\n",
    "    print(counter)\n",
    "print('----')\n",
    "print(counter + counter)"
   ]
  },
  {
   "cell_type": "code",
   "execution_count": 32,
   "metadata": {},
   "outputs": [
    {
     "name": "stdout",
     "output_type": "stream",
     "text": [
      "0 0\n",
      "1 1\n",
      "2 2\n",
      "3 3\n",
      "4 4\n",
      "5 5\n",
      "6 6\n",
      "7 7\n",
      "8 8\n",
      "9 9\n",
      "10 10\n",
      "11 11\n",
      "12 12\n",
      "13 13\n",
      "14 14\n",
      "15 15\n",
      "16 16\n",
      "17 17\n",
      "18 18\n",
      "19 19\n",
      "20 20\n",
      "21 21\n",
      "22 22\n",
      "23 23\n",
      "24 24\n",
      "25 25\n",
      "26 26\n",
      "27 27\n",
      "28 28\n",
      "29 29\n",
      "30 30\n",
      "31 31\n",
      "32 32\n",
      "33 33\n",
      "34 34\n",
      "35 35\n",
      "36 36\n",
      "37 37\n",
      "38 38\n",
      "39 39\n",
      "40 40\n",
      "41 41\n",
      "42 42\n",
      "43 43\n",
      "44 44\n",
      "45 45\n",
      "46 46\n",
      "47 47\n",
      "48 48\n",
      "49 49\n",
      "50 50\n",
      "index of 50 50\n",
      "51 51\n",
      "52 52\n",
      "53 53\n",
      "54 54\n",
      "55 55\n",
      "56 56\n",
      "57 57\n",
      "58 58\n",
      "59 59\n",
      "60 60\n",
      "61 61\n",
      "62 62\n",
      "63 63\n",
      "64 64\n",
      "65 65\n",
      "66 66\n",
      "67 67\n",
      "68 68\n",
      "69 69\n",
      "70 70\n",
      "71 71\n",
      "72 72\n",
      "73 73\n",
      "74 74\n",
      "75 75\n",
      "76 76\n",
      "77 77\n",
      "78 78\n",
      "79 79\n",
      "80 80\n",
      "81 81\n",
      "82 82\n",
      "83 83\n",
      "84 84\n",
      "85 85\n",
      "86 86\n",
      "87 87\n",
      "88 88\n",
      "89 89\n",
      "90 90\n",
      "91 91\n",
      "92 92\n",
      "93 93\n",
      "94 94\n",
      "95 95\n",
      "96 96\n",
      "97 97\n",
      "98 98\n",
      "99 99\n"
     ]
    }
   ],
   "source": [
    "for i,char in enumerate(list(range(100))):\n",
    "    print(i, char)\n",
    "    if char == 50:\n",
    "        print(f'index of 50 {i}')"
   ]
  },
  {
   "cell_type": "code",
   "execution_count": 34,
   "metadata": {},
   "outputs": [],
   "source": [
    "i = 0\n",
    "while i < 50:\n",
    "    print(i)\n",
    "    i += 1\n",
    "else:\n",
    "    print('done with all the work.')"
   ]
  },
  {
   "cell_type": "code",
   "execution_count": 35,
   "metadata": {},
   "outputs": [
    {
     "name": "stdout",
     "output_type": "stream",
     "text": [
      "1\n",
      "2\n",
      "3\n",
      "1\n",
      "2\n",
      "3\n"
     ]
    }
   ],
   "source": [
    "my_list = [1,2,3]\n",
    "for item in [1,2,3]:\n",
    "    print(item)\n",
    "\n",
    "\n",
    "\n",
    "i = 0\n",
    "while i < len(my_list):\n",
    "    print(my_list[i])\n",
    "    i += 1"
   ]
  },
  {
   "cell_type": "code",
   "execution_count": 5,
   "metadata": {},
   "outputs": [
    {
     "name": "stdout",
     "output_type": "stream",
     "text": [
      "['b', 'n']\n"
     ]
    }
   ],
   "source": [
    "#finding duplicates in a list:\n",
    "some_list = ['a', 'b', 'c', 'b', 'd', 'm', 'n', 'n']\n",
    "\n",
    "duplicates = []\n",
    "for value in some_list:\n",
    "    if some_list.count(value) > 1:\n",
    "        # remove next line if want to show the duplicates and how many times in there.\n",
    "        # leave it if you only want to know which values are duplicates.\n",
    "        if value not in duplicates:\n",
    "            duplicates.append(value)\n",
    "print(duplicates)\n",
    " "
   ]
  },
  {
   "cell_type": "code",
   "execution_count": 14,
   "metadata": {},
   "outputs": [
    {
     "name": "stdout",
     "output_type": "stream",
     "text": [
      "hellooooooooo Karol 🙃\n",
      "hellooooooooo chris 🙃\n",
      "hellooooooooo jayjay 🙃\n",
      "hellooooooooo Bibi 🙃\n",
      "helloooo spiderman 🕷️\n",
      "helloooo Jarjar 🐾\n",
      "helloooo Timmy 🕷️\n"
     ]
    }
   ],
   "source": [
    "# parameters within the brackets\n",
    "def say_hello(name, emoji):\n",
    "    print(f'hellooooooooo {name} {emoji}')\n",
    "# making with defauslt parameters\n",
    "\n",
    "def say_hello_defp(name='spiderman', emoji='🕷️'):\n",
    "    print(f'helloooo {name} {emoji}')\n",
    "    \n",
    "# place arguments within the brackets\n",
    "say_hello('Karol', '🙃')\n",
    "say_hello('chris', '🙃')\n",
    "say_hello('jayjay', '🙃')\n",
    "\n",
    "# keyword arguments (is bad practice)\n",
    "say_hello(name='Bibi', emoji='🙃')\n",
    "\n",
    "# outcome with default parameters\n",
    "say_hello_defp()\n",
    "say_hello_defp('Jarjar', '🐾')\n",
    "say_hello_defp('Timmy')\n",
    "\n",
    "\n"
   ]
  },
  {
   "cell_type": "code",
   "execution_count": 23,
   "metadata": {},
   "outputs": [
    {
     "name": "stdout",
     "output_type": "stream",
     "text": [
      "17 + 13 = 30\n",
      "30 + 5 = 35\n",
      "35\n"
     ]
    }
   ],
   "source": [
    "# return gives back the value of the function\n",
    "def sum(num1, num2):\n",
    "    print(num1, '+', num2, '=', num1 + num2)\n",
    "    return num1 + num2\n",
    "total = sum(17, 13)\n",
    "print(sum(total,5))"
   ]
  },
  {
   "cell_type": "code",
   "execution_count": null,
   "metadata": {},
   "outputs": [],
   "source": [
    "# functions\n",
    "# list()\n",
    "# print()\n",
    "# max()\n",
    "# min()\n",
    "# input()\n",
    "\n",
    "# methods\n",
    "# start with a .\n",
    "# Are owned by another object\n",
    "# "
   ]
  },
  {
   "cell_type": "code",
   "execution_count": 3,
   "metadata": {},
   "outputs": [
    {
     "name": "stdout",
     "output_type": "stream",
     "text": [
      "!!!!\n"
     ]
    }
   ],
   "source": [
    "# docstrings gives information about a function\n",
    "def test(a):\n",
    "    '''\n",
    "    Info: this function tests and prints param a\n",
    "    '''\n",
    "    print(a)\n",
    "\n",
    "test(\"!!!!\")\n"
   ]
  },
  {
   "cell_type": "code",
   "execution_count": 12,
   "metadata": {},
   "outputs": [
    {
     "name": "stdout",
     "output_type": "stream",
     "text": [
      "True\n",
      "False\n"
     ]
    }
   ],
   "source": [
    "# clean code, checking if something is even or uneven\n",
    "def is_even(num):\n",
    "    return num % 2 == 0\n",
    "print(is_even(50))\n",
    "print(is_even(51))"
   ]
  },
  {
   "cell_type": "code",
   "execution_count": 23,
   "metadata": {},
   "outputs": [
    {
     "name": "stdout",
     "output_type": "stream",
     "text": [
      "(1, 2, 3, 4, 5)\n",
      "{'num1': 5, 'num2': 10}\n",
      "30\n"
     ]
    }
   ],
   "source": [
    "# *args and **kwargs\n",
    "def super_func(name, *args, i='hi', **kwargs):\n",
    "    total = 0\n",
    "    print(args)\n",
    "    print(kwargs)\n",
    "    for items in kwargs.values():\n",
    "        total += items\n",
    "    return sum(args) + total\n",
    "\n",
    "print(super_func('nick', 1,2,3,4,5, num1=5, num2=10))\n",
    "\n",
    "# Rule params, *args, default parameters, **kwargs"
   ]
  },
  {
   "cell_type": "code",
   "execution_count": 51,
   "metadata": {},
   "outputs": [
    {
     "name": "stdout",
     "output_type": "stream",
     "text": [
      "16\n"
     ]
    }
   ],
   "source": [
    "def highest_even(numbers):\n",
    "    highest_even = None    \n",
    "    for number in numbers:\n",
    "        if number % 2 == 0 and (highest_even is None or number > highest_even):\n",
    "            highest_even = number    \n",
    "    return highest_even\n",
    "\n",
    "print(highest_even([3, 7, 9, 4, 8, 5, 2, 16, 15, 31]))"
   ]
  },
  {
   "cell_type": "code",
   "execution_count": 52,
   "metadata": {},
   "outputs": [
    {
     "name": "stdout",
     "output_type": "stream",
     "text": [
      "10\n"
     ]
    }
   ],
   "source": [
    "def highest_even(li):\n",
    "  evens = []\n",
    "  for item in li:\n",
    "    if item % 2 == 0:\n",
    "      evens.append(item)\n",
    "  return max(evens)\n",
    "\n",
    "print(highest_even([10,1,2,3,4,8]))"
   ]
  },
  {
   "cell_type": "code",
   "execution_count": 62,
   "metadata": {},
   "outputs": [
    {
     "name": "stdout",
     "output_type": "stream",
     "text": [
      "too long 18 elements\n",
      "18\n",
      "17\n",
      "16\n",
      "15\n",
      "14\n",
      "13\n",
      "12\n",
      "11\n",
      "10\n",
      "9\n",
      "8\n",
      "7\n",
      "6\n",
      "5\n",
      "4\n",
      "3\n",
      "2\n",
      "h\n"
     ]
    }
   ],
   "source": [
    "# walrus operator\n",
    "a = 'helooooooooooooooo'\n",
    "\n",
    "if ((n := len(a)) > 10):\n",
    "    print(f\"too long {n} elements\")\n",
    "    \n",
    "while ((n := len(a)) > 1):\n",
    "    print(n)\n",
    "    a = a[:-1]\n",
    "print(a)"
   ]
  },
  {
   "cell_type": "code",
   "execution_count": 65,
   "metadata": {},
   "outputs": [
    {
     "name": "stdout",
     "output_type": "stream",
     "text": [
      "150\n",
      "100\n"
     ]
    }
   ],
   "source": [
    "# scope - what variables do i have access to?\n",
    "#(global scope (everyone with the file has access to it))\n",
    "some_value = 150\n",
    "\n",
    "def some_func():\n",
    "    total = 100\n",
    "\n",
    "print(some_value)\n",
    "print(total)"
   ]
  },
  {
   "cell_type": "code",
   "execution_count": 75,
   "metadata": {},
   "outputs": [
    {
     "name": "stdout",
     "output_type": "stream",
     "text": [
      "10\n",
      "1\n"
     ]
    }
   ],
   "source": [
    "# how to scope\n",
    "\n",
    "a = 1\n",
    "\n",
    "\n",
    "def parent():\n",
    "    a = 10    \n",
    "    def confusion():\n",
    "        return a\n",
    "    return confusion()\n",
    "\n",
    "print(parent())\n",
    "print(a)\n",
    "\n",
    "#1 - start with local\n",
    "#3 - parent local?\n",
    "#3 - gobal\n",
    "#4 - built in functions.\n"
   ]
  },
  {
   "cell_type": "code",
   "execution_count": 76,
   "metadata": {},
   "outputs": [
    {
     "name": "stdout",
     "output_type": "stream",
     "text": [
      "300\n"
     ]
    }
   ],
   "source": [
    "# how to scope\n",
    "\n",
    "a = 10\n",
    "def confusion(b):\n",
    "    print(b)\n",
    "    a = 90\n",
    "confusion(300)\n",
    "\n",
    "#1 - start with local\n",
    "#3 - parent local?\n",
    "#3 - gobal\n",
    "#4 - built in functions.\n"
   ]
  },
  {
   "cell_type": "code",
   "execution_count": 83,
   "metadata": {},
   "outputs": [
    {
     "name": "stdout",
     "output_type": "stream",
     "text": [
      "4\n"
     ]
    }
   ],
   "source": [
    "total = 0\n",
    "\n",
    "def count(total): \n",
    "    total += 1\n",
    "    return total\n",
    "print(count(count(count(count(total)))))"
   ]
  },
  {
   "cell_type": "code",
   "execution_count": 85,
   "metadata": {},
   "outputs": [
    {
     "name": "stdout",
     "output_type": "stream",
     "text": [
      "inner:  nonlocal\n",
      "outer:  nonlocal\n"
     ]
    }
   ],
   "source": [
    "def outer():\n",
    "    x = \"local\"\n",
    "    def inner():\n",
    "        nonlocal x\n",
    "        x = \"nonlocal\"\n",
    "        print(\"inner: \", x)\n",
    "    \n",
    "    inner()\n",
    "    print(\"outer: \", x)\n",
    "\n",
    "outer()\n"
   ]
  },
  {
   "cell_type": "code",
   "execution_count": null,
   "metadata": {},
   "outputs": [
    {
     "name": "stdout",
     "output_type": "stream",
     "text": [
      "inner:  nonlocal\n",
      "outer:  nonlocal\n"
     ]
    }
   ],
   "source": [
    "def outer():\n",
    "    x = \"local\"\n",
    "    def inner():\n",
    "        nonlocal x\n",
    "        x = \"nonlocal\"\n",
    "        print(\"inner: \", x)\n",
    "    \n",
    "    inner()\n",
    "    print(\"outer: \", x)\n",
    "\n",
    "outer()\n"
   ]
  }
 ],
 "metadata": {
  "kernelspec": {
   "display_name": "Python 3",
   "language": "python",
   "name": "python3"
  },
  "language_info": {
   "codemirror_mode": {
    "name": "ipython",
    "version": 3
   },
   "file_extension": ".py",
   "mimetype": "text/x-python",
   "name": "python",
   "nbconvert_exporter": "python",
   "pygments_lexer": "ipython3",
   "version": "3.11.3"
  },
  "orig_nbformat": 4
 },
 "nbformat": 4,
 "nbformat_minor": 2
}
