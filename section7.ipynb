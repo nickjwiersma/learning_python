{
 "cells": [
  {
   "cell_type": "code",
   "execution_count": 1,
   "metadata": {},
   "outputs": [
    {
     "name": "stdout",
     "output_type": "stream",
     "text": [
      "[2, 6, 10]\n"
     ]
    }
   ],
   "source": [
    "def multiply_by2(li):\n",
    "    new_list = []\n",
    "    for item in li:\n",
    "        new_list.append(item*2)\n",
    "    return new_list\n",
    "\n",
    "print(multiply_by2([1,3,5]))"
   ]
  },
  {
   "cell_type": "code",
   "execution_count": 5,
   "metadata": {},
   "outputs": [],
   "source": []
  },
  {
   "cell_type": "code",
   "execution_count": 49,
   "metadata": {},
   "outputs": [
    {
     "name": "stdout",
     "output_type": "stream",
     "text": [
      "[2, 4, 6, 8, 10, 12]\n",
      "[2, 3, 4, 5, 6, 7]\n",
      "[1, 3, 5]\n",
      "[2, 4, 6]\n",
      "['Alice', 'Anna', 'Alex']\n",
      "[(1, 10, 9, 'Alice'), (2, 20, 8, 'Bob'), (3, 30, 7, 'Anna'), (4, 40, 6, 'Alex'), (5, 50, 5, 'John'), (6, 60, 4, 'Karol')]\n",
      "0 10\n",
      "10 20\n",
      "30 30\n",
      "60 40\n",
      "100 50\n",
      "150 60\n",
      "210\n"
     ]
    }
   ],
   "source": [
    "# reduce\n",
    "from functools import reduce\n",
    "\n",
    "\n",
    "# list of iterables\n",
    "list_it_1 = [1,2,3,4,5,6]\n",
    "list_it_2 = [10,20,30,40,50,60]\n",
    "list_it_3 = [9,8,7,6,5,4]\n",
    "\n",
    "# lists of strings\n",
    "list_str1 = [\"Alice\", \"Bob\", \"Anna\", \"Alex\", \"John\", \"Karol\"]\n",
    "\n",
    "# map\n",
    "def multiply_by2(item):\n",
    "    return item*2\n",
    "def plus_one(item):\n",
    "    return item+1\n",
    "\n",
    "# filter\n",
    "def only_odd(item):\n",
    "    return item % 2 != 0\n",
    "def only_even(item):\n",
    "    return item % 2 == 0\n",
    "def starts_with(name):\n",
    "    return name.startswith('A') #can be modified to any letter\n",
    "\n",
    "\n",
    "\n",
    "# using the map\n",
    "print(list(map(multiply_by2, list_it_1)))\n",
    "print(list(map(plus_one, list_it_1)))\n",
    "\n",
    "# using the filter\n",
    "print(list(filter(only_odd, list_it_1)))\n",
    "print(list(filter(only_even, list_it_1)))\n",
    "print(list(filter(starts_with, list_str1)))\n",
    "\n",
    "#zip iterates over data structures and zips them together\n",
    "print(list(zip(list_it_1, list_it_2, list_it_3, list_str1)))\n",
    "\n",
    "\n",
    "\n",
    "# reduce\n",
    "def accumulator(acc, item):\n",
    "    print(acc, item)\n",
    "    return acc + item\n",
    "\n",
    "print(reduce(accumulator, list_it_2, 0))\n"
   ]
  },
  {
   "cell_type": "code",
   "execution_count": 47,
   "metadata": {},
   "outputs": [
    {
     "name": "stdout",
     "output_type": "stream",
     "text": [
      "['Sisi', 'Bibi', 'Titi', 'Carla']\n",
      "[('a', 1), ('b', 2), ('c', 3), ('d', 4), ('e', 5)]\n",
      "[20, 19]\n",
      "[73, 65, 76, 100, 88]\n",
      "[5, 4, 3, 2, 1, 73, 20, 65, 19, 76, 100, 88]\n"
     ]
    }
   ],
   "source": [
    "from functools import reduce\n",
    "\n",
    "#1 Capitalize all of the pet names and print the list\n",
    "my_pets = ['sisi', 'bibi', 'titi', 'carla']\n",
    "def capitalize(name):\n",
    "    return name.capitalize()\n",
    "\n",
    "capitalized_names = map(capitalize, my_pets)\n",
    "print(list(capitalized_names))\n",
    "\n",
    "\n",
    "#2 Zip the 2 lists into a list of tuples, but sort the numbers from lowest to highest.\n",
    "my_strings = ['a', 'b', 'c', 'd', 'e']\n",
    "my_numbers = [5, 4, 3, 2, 1]\n",
    "\n",
    "def sort_numbers(numbers):\n",
    "    sorted_numbers = sorted(numbers)  # Sort the numbers from lowest to highest\n",
    "    return sorted_numbers\n",
    "\n",
    "sorted_numbers = sort_numbers(my_numbers)\n",
    "\n",
    "print(list(zip(my_strings, sorted_numbers)))\n",
    "\n",
    "\n",
    "#3 Filter the scores that pass over 50%\n",
    "scores = [73, 20, 65, 19, 76, 100, 88]\n",
    "def under_50_percent(items):\n",
    "    return items < 50\n",
    "def over_50_percent(items):\n",
    "    return items >= 50\n",
    "\n",
    "print(list(filter(under_50_percent, scores)))\n",
    "print(list(filter(over_50_percent, scores)))\n",
    "\n",
    "#4 Combine all of the numbers that are in a list on this file using reduce (my_numbers and scores). What is the total?\n",
    "def accumulator(acc, item):\n",
    "    return acc + item\n",
    "\n",
    "print(reduce(accumulator, (my_numbers, scores)))\n"
   ]
  },
  {
   "cell_type": "code",
   "execution_count": 64,
   "metadata": {},
   "outputs": [
    {
     "name": "stdout",
     "output_type": "stream",
     "text": [
      "multiply: [2, 4, 6, 8, 10, 12]\n",
      "plus one: [2, 3, 4, 5, 6, 7]\n",
      "minus one: [0, 1, 2, 3, 4, 5]\n",
      "to the power: [1, 4, 9, 16, 25, 36]\n",
      "only odds: [1, 3, 5]\n",
      "only evens: [2, 4, 6]\n",
      "starts with an character: ['Alice', 'Anna', 'Alex']\n",
      "Zipped lists: [(1, 10, 9, 'Alice'), (2, 20, 8, 'Bob'), (3, 30, 7, 'Anna'), (4, 40, 6, 'Alex'), (5, 50, 5, 'John'), (6, 60, 4, 'Karol')]\n",
      "0 10\n",
      "10 20\n",
      "30 30\n",
      "60 40\n",
      "100 50\n",
      "150 60\n",
      "Accumulated results: 210\n",
      "lambda multiply: [2, 4, 6, 8, 10, 12]\n",
      "lambda filter: [2, 4, 6]\n",
      "lambda reduce: 21\n"
     ]
    }
   ],
   "source": [
    "# lambda expressions\n",
    "\n",
    "# reduce\n",
    "from functools import reduce\n",
    "\n",
    "# list of iterables\n",
    "list_it_1 = [1,2,3,4,5,6]\n",
    "list_it_2 = [10,20,30,40,50,60]\n",
    "list_it_3 = [9,8,7,6,5,4]\n",
    "\n",
    "# lists of strings\n",
    "list_str1 = [\"Alice\", \"Bob\", \"Anna\", \"Alex\", \"John\", \"Karol\"]\n",
    "\n",
    "# map\n",
    "def plus_one(item):\n",
    "    return item + 1\n",
    "def minus_one(item):\n",
    "    return item - 1\n",
    "def multiply_by2(item):\n",
    "    return item * 2\n",
    "def power(item):\n",
    "    return item ** 2\n",
    "\n",
    "# filter\n",
    "def only_odd(item):\n",
    "    return item % 2 != 0\n",
    "def only_even(item):\n",
    "    return item % 2 == 0\n",
    "def starts_with(name):\n",
    "    return name.startswith('A') #can be modified to any letter\n",
    "\n",
    "# reduce\n",
    "def accumulator(acc, item):\n",
    "    print(acc, item)\n",
    "    return acc + item\n",
    "\n",
    "\n",
    "# using the map\n",
    "print(\"multiply:\", list(map(multiply_by2, list_it_1)))\n",
    "print(\"plus one:\", list(map(plus_one, list_it_1)))\n",
    "print(\"minus one:\", list(map(minus_one, list_it_1)))\n",
    "print(\"to the power:\", list(map(power, list_it_1)))\n",
    "\n",
    "\n",
    "# using the filter\n",
    "print(\"only odds:\", list(filter(only_odd, list_it_1)))\n",
    "print(\"only evens:\", list(filter(only_even, list_it_1)))\n",
    "print(\"starts with an character:\", list(filter(starts_with, list_str1)))\n",
    "\n",
    "\n",
    "#zip iterates over data structures and zips them together\n",
    "print(\"Zipped lists:\", list(zip(list_it_1, list_it_2, list_it_3, list_str1)))\n",
    "\n",
    "\n",
    "# reduce\n",
    "print(\"Accumulated results:\", reduce(accumulator, list_it_2, 0))\n",
    "\n",
    "\n",
    "# lambda: lambda param: action(param)\n",
    "print(\"lambda multiply:\", list(map(lambda item: item * 2, list_it_1)))\n",
    "print(\"lambda filter:\", list(filter(lambda item: item % 2 == 0, list_it_1)))\n",
    "print(\"lambda reduce:\", reduce(lambda acc, item: acc + item, list_it_1))"
   ]
  },
  {
   "cell_type": "code",
   "execution_count": 58,
   "metadata": {},
   "outputs": [
    {
     "name": "stdout",
     "output_type": "stream",
     "text": [
      "[25, 16, 9]\n",
      "[(10, -1), (0, 2), (4, 3), (9, 9)]\n"
     ]
    }
   ],
   "source": [
    "#square\n",
    "list1 = [5,4,3]\n",
    "\n",
    "new_list = list(map(lambda num: num**2, list1))\n",
    "print(new_list)\n",
    "\n",
    "#list sorting by the second item \n",
    "a = [(0,2), (4,3), (9,9), (10, -1)]\n",
    "a.sort(key=lambda x: x[1])\n",
    "print(a)\n"
   ]
  },
  {
   "cell_type": "code",
   "execution_count": 73,
   "metadata": {},
   "outputs": [
    {
     "name": "stdout",
     "output_type": "stream",
     "text": [
      "['h', 'e', 'l', 'l', 'o']\n",
      "[0, 1, 2, 3, 4, 5, 6, 7, 8, 9, 10, 11, 12, 13, 14, 15, 16, 17, 18, 19, 20, 21, 22, 23, 24, 25, 26, 27, 28, 29, 30, 31, 32, 33, 34, 35, 36, 37, 38, 39, 40, 41, 42, 43, 44, 45, 46, 47, 48, 49, 50, 51, 52, 53, 54, 55, 56, 57, 58, 59, 60, 61, 62, 63, 64, 65, 66, 67, 68, 69, 70, 71, 72, 73, 74, 75, 76, 77, 78, 79, 80, 81, 82, 83, 84, 85, 86, 87, 88, 89, 90, 91, 92, 93, 94, 95, 96, 97, 98, 99]\n",
      "[0, 2, 4, 6, 8, 10, 12, 14, 16, 18, 20, 22, 24, 26, 28, 30, 32, 34, 36, 38, 40, 42, 44, 46, 48, 50, 52, 54, 56, 58, 60, 62, 64, 66, 68, 70, 72, 74, 76, 78, 80, 82, 84, 86, 88, 90, 92, 94, 96, 98, 100, 102, 104, 106, 108, 110, 112, 114, 116, 118, 120, 122, 124, 126, 128, 130, 132, 134, 136, 138, 140, 142, 144, 146, 148, 150, 152, 154, 156, 158, 160, 162, 164, 166, 168, 170, 172, 174, 176, 178, 180, 182, 184, 186, 188, 190, 192, 194, 196, 198]\n",
      "[0, 4, 16, 36, 64, 100, 144, 196, 256, 324, 400, 484, 576, 676, 784, 900, 1024, 1156, 1296, 1444, 1600, 1764, 1936, 2116, 2304, 2500, 2704, 2916, 3136, 3364, 3600, 3844, 4096, 4356, 4624, 4900, 5184, 5476, 5776, 6084, 6400, 6724, 7056, 7396, 7744, 8100, 8464, 8836, 9216, 9604]\n"
     ]
    }
   ],
   "source": [
    "# (list) comprehensions\n",
    "\n",
    "my_list = [char for char in 'hello']\n",
    "my_list2 = [num for num in range(0,100)]\n",
    "my_list3 = [num*2 for num in range(0,100) ]\n",
    "my_list4 = [num**2 for num in range(0,100) if num % 2 == 0 ]\n",
    "print(my_list)\n",
    "print(my_list2)\n",
    "print(my_list3)\n",
    "print(my_list4)"
   ]
  },
  {
   "cell_type": "code",
   "execution_count": 77,
   "metadata": {},
   "outputs": [
    {
     "name": "stdout",
     "output_type": "stream",
     "text": [
      "{'b': 4}\n"
     ]
    }
   ],
   "source": [
    "# (set) comprehensions\n",
    "simple_dict = {\n",
    "    'a': 1,\n",
    "    'b': 2\n",
    "}\n",
    "\n",
    "my_dict = {k:v**2 for k,v in simple_dict.items() if v%2==0 }\n",
    "print(my_dict)"
   ]
  },
  {
   "cell_type": "code",
   "execution_count": 78,
   "metadata": {},
   "outputs": [
    {
     "name": "stdout",
     "output_type": "stream",
     "text": [
      "{1: 2, 2: 4, 3: 6}\n"
     ]
    }
   ],
   "source": [
    "# (set) comprehensions\n",
    "my_dict = {num:num*2 for num in [1,2,3] }\n",
    "print(my_dict)"
   ]
  },
  {
   "cell_type": "code",
   "execution_count": 80,
   "metadata": {},
   "outputs": [
    {
     "name": "stdout",
     "output_type": "stream",
     "text": [
      "['n', 'b']\n"
     ]
    }
   ],
   "source": [
    "some_list = ['a','b','c','d','b','m','n','n']\n",
    "\n",
    "duplicates = list(set([x for x in some_list if some_list.count(x) > 1]))\n",
    "\n",
    "print(duplicates)"
   ]
  },
  {
   "cell_type": "code",
   "execution_count": 4,
   "metadata": {},
   "outputs": [
    {
     "name": "stdout",
     "output_type": "stream",
     "text": [
      "still here!\n",
      "None\n"
     ]
    }
   ],
   "source": [
    "def hello(func):\n",
    "    func()\n",
    "def greet():\n",
    "    print('still here!')\n",
    "a = hello(greet)\n",
    "\n",
    "print(a)"
   ]
  },
  {
   "cell_type": "code",
   "execution_count": null,
   "metadata": {},
   "outputs": [],
   "source": []
  }
 ],
 "metadata": {
  "kernelspec": {
   "display_name": "Python 3",
   "language": "python",
   "name": "python3"
  },
  "language_info": {
   "codemirror_mode": {
    "name": "ipython",
    "version": 3
   },
   "file_extension": ".py",
   "mimetype": "text/x-python",
   "name": "python",
   "nbconvert_exporter": "python",
   "pygments_lexer": "ipython3",
   "version": "3.11.3"
  },
  "orig_nbformat": 4
 },
 "nbformat": 4,
 "nbformat_minor": 2
}
