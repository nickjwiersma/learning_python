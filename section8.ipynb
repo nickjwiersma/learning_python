{
 "cells": [
  {
   "cell_type": "code",
   "execution_count": 2,
   "metadata": {},
   "outputs": [
    {
     "name": "stdout",
     "output_type": "stream",
     "text": [
      "still here\n",
      "None\n"
     ]
    }
   ],
   "source": [
    "def hello(func):\n",
    "    func()\n",
    "\n",
    "def greet():\n",
    "    print('still here')\n",
    "\n",
    "a = hello(greet)\n",
    "print(a)"
   ]
  },
  {
   "cell_type": "code",
   "execution_count": 3,
   "metadata": {},
   "outputs": [],
   "source": [
    "# Higher order function HOC\n",
    "def greet(func):\n",
    "    func()\n",
    "\n",
    "def greet2():\n",
    "    def func():\n",
    "        return 5\n",
    "    return func"
   ]
  },
  {
   "cell_type": "code",
   "execution_count": 9,
   "metadata": {},
   "outputs": [
    {
     "name": "stdout",
     "output_type": "stream",
     "text": [
      "*************\n",
      "helllloooooooo\n",
      "*************\n",
      "*************\n",
      "See ya later!\n",
      "*************\n"
     ]
    }
   ],
   "source": [
    "# decorator\n",
    "\n",
    "def my_decorator(func):\n",
    "    def wrap_func():\n",
    "        print('*************')\n",
    "        func()\n",
    "        print('*************')\n",
    "    return wrap_func\n",
    "\n",
    "@my_decorator\n",
    "def hello():\n",
    "    print('helllloooooooo')\n",
    "@my_decorator\n",
    "def bye():\n",
    "    print(\"See ya later!\")\n",
    "\n",
    "hello()\n",
    "bye()"
   ]
  },
  {
   "cell_type": "code",
   "execution_count": 17,
   "metadata": {},
   "outputs": [
    {
     "name": "stdout",
     "output_type": "stream",
     "text": [
      "*************\n",
      "hiiiii :(\n",
      "*************\n",
      "*************\n",
      "byeeeee :(\n",
      "*************\n"
     ]
    }
   ],
   "source": [
    "# decorator\n",
    "\n",
    "def my_decorator(func):\n",
    "    def wrap_func(*args, **kwargs):\n",
    "        print('*************')\n",
    "        func(*args, **kwargs)\n",
    "        print('*************')\n",
    "    return wrap_func\n",
    "\n",
    "@my_decorator\n",
    "def hello(greeting, emoji=':('):\n",
    "    print(greeting, emoji)\n",
    "@my_decorator\n",
    "def bye(byebye, emoji):\n",
    "    print(byebye, emoji)\n",
    "\n",
    "hello('hiiiii')\n",
    "bye('byeeeee', ':(')"
   ]
  },
  {
   "cell_type": "code",
   "execution_count": 23,
   "metadata": {},
   "outputs": [
    {
     "name": "stdout",
     "output_type": "stream",
     "text": [
      "took 26.362508058547974 s\n"
     ]
    }
   ],
   "source": [
    "# performance checker\n",
    "from time import time\n",
    "def performance(fn):\n",
    "    def wrapper(*args, **kwargs):\n",
    "        t1 = time()\n",
    "        result = fn(*args, **kwargs)\n",
    "        t2 = time()\n",
    "        print(f'took {t2-t1} s')\n",
    "        return result\n",
    "    return wrapper\n",
    "\n",
    "@performance\n",
    "def long_time():\n",
    "    for i in range(1000000000):\n",
    "        i * 5\n",
    "\n",
    "long_time()"
   ]
  },
  {
   "cell_type": "code",
   "execution_count": 9,
   "metadata": {},
   "outputs": [
    {
     "name": "stdout",
     "output_type": "stream",
     "text": [
      "message has been sent\n"
     ]
    }
   ],
   "source": [
    "def authenticated(fn):\n",
    "    def wrapper(*args, **kwargs):\n",
    "        user = args[0] #extracts the first argument as the user\n",
    "        if user.is_authenticated:\n",
    "            fn(*args, **kwargs) #call the decorated function with the argument and keyword arguments\n",
    "        else: \n",
    "            print(\"user is not authenticated. cannot send message\")\n",
    "    return wrapper\n",
    "\n",
    "class User:\n",
    "   def __init__(self, name, is_authenticated):\n",
    "      self.name = name\n",
    "      self.is_authenticated = is_authenticated\n",
    "\n",
    "@authenticated\n",
    "def message_friends(user):\n",
    "    print('message has been sent')\n",
    "\n",
    "user1 = User('Sorna', True)\n",
    "message_friends(user1)"
   ]
  }
 ],
 "metadata": {
  "kernelspec": {
   "display_name": "Python 3",
   "language": "python",
   "name": "python3"
  },
  "language_info": {
   "codemirror_mode": {
    "name": "ipython",
    "version": 3
   },
   "file_extension": ".py",
   "mimetype": "text/x-python",
   "name": "python",
   "nbconvert_exporter": "python",
   "pygments_lexer": "ipython3",
   "version": "3.11.3"
  },
  "orig_nbformat": 4
 },
 "nbformat": 4,
 "nbformat_minor": 2
}
