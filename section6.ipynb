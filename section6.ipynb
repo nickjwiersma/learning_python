{
 "cells": [
  {
   "cell_type": "code",
   "execution_count": 1,
   "metadata": {},
   "outputs": [
    {
     "name": "stdout",
     "output_type": "stream",
     "text": [
      "<class 'NoneType'>\n",
      "<class 'bool'>\n",
      "<class 'int'>\n",
      "<class 'float'>\n",
      "<class 'str'>\n",
      "<class 'list'>\n",
      "<class 'tuple'>\n",
      "<class 'dict'>\n"
     ]
    }
   ],
   "source": [
    "print(type(None))\n",
    "print(type(True))\n",
    "print(type(5))\n",
    "print(type(5.5))\n",
    "print(type('hi'))\n",
    "print(type([]))\n",
    "print(type(()))\n",
    "print(type({}))\n",
    "# OOP"
   ]
  },
  {
   "cell_type": "code",
   "execution_count": 4,
   "metadata": {},
   "outputs": [
    {
     "name": "stdout",
     "output_type": "stream",
     "text": [
      "<class '__main__.BigObject'>\n"
     ]
    }
   ],
   "source": [
    "# no snakey case but camelcase (begin every word with a capitalized letter)\n",
    "class BigObject:\n",
    "    # code\n",
    "    pass\n",
    "\n",
    "obj1 = BigObject() #instanciate\n",
    "obj2 = BigObject()\n",
    "obj3 = BigObject()\n",
    "obj4 = BigObject()\n",
    "print(type(obj1))\n"
   ]
  },
  {
   "cell_type": "code",
   "execution_count": 24,
   "metadata": {},
   "outputs": [
    {
     "name": "stdout",
     "output_type": "stream",
     "text": [
      "Not meeting age restriction.\n"
     ]
    },
    {
     "ename": "AttributeError",
     "evalue": "'PlayerCharacterMelee' object has no attribute 'name'",
     "output_type": "error",
     "traceback": [
      "\u001b[0;31m---------------------------------------------------------------------------\u001b[0m",
      "\u001b[0;31mAttributeError\u001b[0m                            Traceback (most recent call last)",
      "Cell \u001b[0;32mIn[24], line 49\u001b[0m\n\u001b[1;32m     46\u001b[0m player1 \u001b[39m=\u001b[39m PlayerCharacterMelee(\u001b[39m'\u001b[39m\u001b[39mNick\u001b[39m\u001b[39m'\u001b[39m, \u001b[39m'\u001b[39m\u001b[39mMale\u001b[39m\u001b[39m'\u001b[39m, \u001b[39m12\u001b[39m, \u001b[39m'\u001b[39m\u001b[39mWarrior\u001b[39m\u001b[39m'\u001b[39m)\n\u001b[1;32m     47\u001b[0m player2 \u001b[39m=\u001b[39m PlayerCharacterMagic(\u001b[39m'\u001b[39m\u001b[39mKarol\u001b[39m\u001b[39m'\u001b[39m, \u001b[39m'\u001b[39m\u001b[39mFemale\u001b[39m\u001b[39m'\u001b[39m, \u001b[39m32\u001b[39m, \u001b[39m'\u001b[39m\u001b[39mWitch\u001b[39m\u001b[39m'\u001b[39m)\n\u001b[0;32m---> 49\u001b[0m \u001b[39mprint\u001b[39m(player1\u001b[39m.\u001b[39;49mname)\n\u001b[1;32m     50\u001b[0m \u001b[39mprint\u001b[39m(player2\u001b[39m.\u001b[39mname)\n",
      "\u001b[0;31mAttributeError\u001b[0m: 'PlayerCharacterMelee' object has no attribute 'name'"
     ]
    },
    {
     "ename": "",
     "evalue": "",
     "output_type": "error",
     "traceback": [
      "\u001b[1;31mThe Kernel crashed while executing code in the the current cell or a previous cell. Please review the code in the cell(s) to identify a possible cause of the failure. Click <a href='https://aka.ms/vscodeJupyterKernelCrash'>here</a> for more info. View Jupyter <a href='command:jupyter.viewOutput'>log</a> for further details."
     ]
    }
   ],
   "source": [
    "class PlayerCharacterMagic:\n",
    "\n",
    "    membership = True #class object attribute = static\n",
    "\n",
    "    def __init__(self, name, sex, age, profession):\n",
    "        if (age > 18):\n",
    "            self.name = name #attribute\n",
    "            self.sex = sex #attribute\n",
    "            self.age = age #attribute\n",
    "            self.profession = profession #attribute\n",
    "        else:\n",
    "            print('Not meeting age restriction.')\n",
    "\n",
    "    def run(self):\n",
    "        print('Run')\n",
    "    \n",
    "    def shout(self):\n",
    "        print(f'My name is {self.name}!')\n",
    "\n",
    "\n",
    "class PlayerCharacterMelee:\n",
    "    \n",
    "    membership = True #class object attribute\n",
    "\n",
    "    def __init__(self, name, sex, age, profession):\n",
    "        if (age > 18):\n",
    "            self.name = name\n",
    "            self.sex = sex\n",
    "            self.age = age\n",
    "            self.profession = profession\n",
    "        else:\n",
    "            print('Not meeting age restriction.')\n",
    "\n",
    "\n",
    "    def run(self):\n",
    "        print('Run')\n",
    "\n",
    "\n",
    "    def shout(self):\n",
    "        print(f'My name is {self.name}!')\n",
    "\n",
    "\n",
    "\n",
    "player1 = PlayerCharacterMelee('Nick', 'Male', 12, 'Warrior')\n",
    "player2 = PlayerCharacterMagic('Karol', 'Female', 32, 'Witch')\n",
    "\n",
    "print(player1.name)\n",
    "print(player2.name)"
   ]
  },
  {
   "cell_type": "code",
   "execution_count": 17,
   "metadata": {},
   "outputs": [
    {
     "name": "stdout",
     "output_type": "stream",
     "text": [
      "Nick\n",
      "Male\n",
      "30\n",
      "Warrior\n",
      "Karol\n",
      "Female\n",
      "32\n",
      "Witch\n"
     ]
    }
   ],
   "source": [
    "print(player1.name)\n",
    "print(player1.sex)\n",
    "print(player1.age)\n",
    "print(player1.profession)\n",
    "\n",
    "print(player2.name)\n",
    "print(player2.sex)\n",
    "print(player2.age)\n",
    "print(player2.profession)"
   ]
  },
  {
   "cell_type": "code",
   "execution_count": 10,
   "metadata": {},
   "outputs": [
    {
     "name": "stdout",
     "output_type": "stream",
     "text": [
      "The oldest cat is Koe who is 16 years old.\n"
     ]
    }
   ],
   "source": [
    "class Cat:\n",
    "    species = 'mammal'\n",
    "    def __init__(self, name, age):\n",
    "        self.name = name\n",
    "        self.age = age\n",
    "        \n",
    "\n",
    "cat1 = Cat('Willum', 8)\n",
    "cat2 = Cat('Freyja', 6)\n",
    "cat3 = Cat('Koe', 16)\n",
    "\n",
    "oldest_cat = max(cat1, cat2, cat3, key=lambda cat: cat.age)\n",
    "\n",
    "print(f\"The oldest cat is {oldest_cat.name} who is {oldest_cat.age} years old.\")\n"
   ]
  },
  {
   "cell_type": "code",
   "execution_count": 8,
   "metadata": {},
   "outputs": [
    {
     "name": "stdout",
     "output_type": "stream",
     "text": [
      "The oldest cat is Willum who is 13 years old.\n"
     ]
    }
   ],
   "source": [
    "class Cat:\n",
    "    def __init__(self, name, age):\n",
    "        self.name = name\n",
    "        self.age = age\n",
    "\n",
    "\n",
    "cat1 = Cat(\"Whiskers\", 3)\n",
    "cat2 = Cat(\"Fluffy\", 5)\n",
    "cat3 = Cat(\"Freyja\", 7)\n",
    "cat4 = Cat(\"Willum\", 13)\n",
    "cat5 = Cat(\"Mittens\", 2)\n",
    "\n",
    "# Determine the oldest cat using if statements.\n",
    "oldest_cat = cat1\n",
    "\n",
    "if cat2.age > oldest_cat.age:\n",
    "    oldest_cat = cat2\n",
    "\n",
    "if cat3.age > oldest_cat.age:\n",
    "    oldest_cat = cat3\n",
    "\n",
    "if cat4.age > oldest_cat.age:\n",
    "    oldest_cat = cat4\n",
    "\n",
    "if cat5.age > oldest_cat.age:\n",
    "    oldest_cat = cat5\n",
    "\n",
    "\n",
    "print(f\"The oldest cat is {oldest_cat.name} who is {oldest_cat.age} years old.\")\n"
   ]
  },
  {
   "cell_type": "code",
   "execution_count": 9,
   "metadata": {},
   "outputs": [
    {
     "name": "stdout",
     "output_type": "stream",
     "text": [
      "The oldest cat is Willum who is 13 years old.\n"
     ]
    }
   ],
   "source": [
    "class Cat:\n",
    "    def __init__(self, name, age):\n",
    "        self.name = name\n",
    "        self.age = age\n",
    "\n",
    "\n",
    "cat1 = Cat(\"Whiskers\", 3)\n",
    "cat2 = Cat(\"Fluffy\", 5)\n",
    "cat3 = Cat(\"Mittens\", 2)\n",
    "cat4 = Cat(\"Freyja\", 7)\n",
    "cat5 = Cat(\"Willum\", 13)\n",
    "\n",
    "\n",
    "# Determine the oldest cat using a loop.\n",
    "# Determine the oldest cat\n",
    "cats = [cat1, cat2, cat3, cat4, cat5]\n",
    "oldest_cat = cats[0]\n",
    "\n",
    "for cat in cats:\n",
    "    if cat.age > oldest_cat.age:\n",
    "        oldest_cat = cat\n",
    "\n",
    "print(f\"The oldest cat is {oldest_cat.name} who is {oldest_cat.age} years old.\")\n"
   ]
  },
  {
   "cell_type": "code",
   "execution_count": 20,
   "metadata": {},
   "outputs": [
    {
     "name": "stdout",
     "output_type": "stream",
     "text": [
      "True\n",
      "Attacking with arrows: arrows left- 100\n"
     ]
    }
   ],
   "source": [
    "# inheritance\n",
    "# made the parent class user that every player has to inherit\n",
    "class User():\n",
    "    def sign_in(self):\n",
    "        print('Logged in.')\n",
    "# placing the parent class in the brackets this new class automatically inherits the class\n",
    "class Wizard(User):\n",
    "    def __init__(self, name, power):\n",
    "        self.name = name\n",
    "        self.power = power\n",
    "    def attack(self):\n",
    "        print(f'Attacking with the power of {self.power}')\n",
    "\n",
    "class Archer(User):\n",
    "    def __init__(self, name, num_arrows):\n",
    "        self.name = name\n",
    "        self.num_arrows = num_arrows\n",
    "    def attack(self):\n",
    "        print(f'Attacking with arrows: arrows left- {self.num_arrows}')\n",
    "\n",
    "wizard1 = Wizard('Merlin', 60)\n",
    "archer1 = Archer('Robin', 100)\n",
    "\n",
    "print(isinstance(wizard1, object))\n",
    "\n",
    "archer1.attack()"
   ]
  },
  {
   "cell_type": "code",
   "execution_count": 27,
   "metadata": {},
   "outputs": [
    {
     "name": "stdout",
     "output_type": "stream",
     "text": [
      "Merlin does nothing\n",
      "Attacking with the power of 60\n",
      "Robin does nothing\n",
      "Attacking with arrows: arrows left: 30\n",
      "Merlin does nothing\n",
      "Attacking with the power of 60\n",
      "Robin does nothing\n",
      "Attacking with arrows: arrows left: 30\n"
     ]
    }
   ],
   "source": [
    "# Polymorphism\n",
    "\n",
    "class User():\n",
    "    def sign_in(self):\n",
    "        print('Logged in.')\n",
    "\n",
    "    def attack(self):\n",
    "        print(f'{self.name} does nothing')\n",
    "\n",
    "class Wizard(User):\n",
    "    def __init__(self, name, power):\n",
    "        self.name = name\n",
    "        self.power = power\n",
    "    def attack(self):\n",
    "        User.attack(self)\n",
    "        print(f'Attacking with the power of {self.power}')\n",
    "\n",
    "class Archer(User):\n",
    "    def __init__(self, name, num_arrows):\n",
    "        self.name = name\n",
    "        self.num_arrows = num_arrows\n",
    "    def attack(self):\n",
    "        User.attack(self)\n",
    "        print(f'Attacking with arrows: arrows left: {self.num_arrows}')\n",
    "\n",
    "wizard1 = Wizard('Merlin', 60)\n",
    "archer1 = Archer('Robin', 30)\n",
    "\n",
    "def player_attack(char):\n",
    "    char.attack()\n",
    "\n",
    "for char in [wizard1, archer1]:\n",
    "    char.attack()\n",
    "\n",
    "player_attack(wizard1)\n",
    "player_attack(archer1)"
   ]
  },
  {
   "cell_type": "code",
   "execution_count": 28,
   "metadata": {},
   "outputs": [
    {
     "name": "stdout",
     "output_type": "stream",
     "text": [
      "Simon is just walking around\n",
      "Sally is just walking around\n",
      "Freyja is just walking around\n"
     ]
    }
   ],
   "source": [
    "class Pets():\n",
    "    animals = []\n",
    "    def __init__(self, animals):\n",
    "        self.animals = animals\n",
    "\n",
    "    def walk(self):\n",
    "        for animal in self.animals:\n",
    "            print(animal.walk())\n",
    "\n",
    "class Cat(Pets):\n",
    "    is_lazy = True\n",
    "\n",
    "    def __init__(self, name, age):\n",
    "        self.name = name\n",
    "        self.age = age\n",
    "\n",
    "    def walk(self):\n",
    "        return (f'{self.name} is just walking around')\n",
    "\n",
    "class Simon(Cat):\n",
    "    def sing(self, sounds):\n",
    "        return f'{sounds}'\n",
    "\n",
    "class Sally(Cat):\n",
    "    def sing(self, sounds):\n",
    "        return f'{sounds}'\n",
    "\n",
    "#1 Add nother Cat\n",
    "\n",
    "class Freyja(Cat):\n",
    "    def sing(self, sounds):\n",
    "        return f'{sounds}'\n",
    "\n",
    "\n",
    "\n",
    "\n",
    "#2 Create a list of all of the pets (create 3 cat instances from the above)\n",
    "my_cats = [\n",
    "    Simon('Simon', 'Mieuw'),\n",
    "    Sally('Sally', 'Miiiauw'),\n",
    "    Freyja('Freyja', 'Purrrrr')\n",
    "    ]\n",
    "\n",
    "#3 Instantiate the Pet class with all your cats use variable my_pets\n",
    "my_pets = Pets(my_cats)\n",
    "\n",
    "#4 Output all of the cats walking using the my_pets instance\n",
    "my_pets.walk()"
   ]
  },
  {
   "cell_type": "code",
   "execution_count": null,
   "metadata": {},
   "outputs": [
    {
     "name": "stdout",
     "output_type": "stream",
     "text": [
      "True\n",
      "Attacking with arrows: arrows left- 100\n"
     ]
    }
   ],
   "source": [
    "# inheritance\n",
    "# made the parent class user that every player has to inherit\n",
    "class User(object):\n",
    "    def __init__(self, email):\n",
    "        self.email = email\n",
    "    def sign_in(self):\n",
    "        print('Logged in.')\n",
    "\n",
    "\n",
    "# placing the parent class in the brackets this new class automatically inherits the class\n",
    "class Wizard(User):\n",
    "    def __init__(self, name, power, email):\n",
    "        # importing the email from user\n",
    "        User.__init__(self, email)\n",
    "        self.name = name\n",
    "        self.power = power\n",
    "\n",
    "    def attack(self):\n",
    "        print(f'Attacking with the power of {self.power}')\n",
    "\n",
    "class Archer(User):\n",
    "    def __init__(self, name, num_arrows, email):\n",
    "        User.__init__(self, email)\n",
    "        self.name = name\n",
    "        self.num_arrows = num_arrows\n",
    "    \n",
    "    def attack(self):\n",
    "        print(f'Attacking with arrows: arrows left- {self.num_arrows}')\n",
    "\n",
    "wizard1 = Wizard('Merlin', 60, 'merlin@gmail.com')\n",
    "archer1 = Archer('Robin', 100, 'robin@gmail.com')\n",
    "\n",
    "print(isinstance(wizard1, object))\n",
    "\n",
    "archer1.attack()"
   ]
  },
  {
   "cell_type": "code",
   "execution_count": 30,
   "metadata": {},
   "outputs": [
    {
     "name": "stdout",
     "output_type": "stream",
     "text": [
      "merlin@gmail.com\n",
      "Attacking with the power of 60\n"
     ]
    }
   ],
   "source": [
    "# inheritance\n",
    "# made the parent class user that every player has to inherit\n",
    "class User(object):\n",
    "    def __init__(self, email):\n",
    "        self.email = email\n",
    "    def sign_in(self):\n",
    "        print('Logged in.')\n",
    "\n",
    "\n",
    "# placing the parent class in the brackets this new class automatically inherits the class\n",
    "class Wizard(User):\n",
    "    def __init__(self, name, power, email):\n",
    "        # using super() to grab from the parent class\n",
    "        super().__init__(email)\n",
    "        self.name = name\n",
    "        self.power = power\n",
    "\n",
    "    def attack(self):\n",
    "        print(f'Attacking with the power of {self.power}')\n",
    "\n",
    "class Archer(User):\n",
    "    def __init__(self, name, num_arrows, email):\n",
    "        super().__init__(email)\n",
    "        self.name = name\n",
    "        self.num_arrows = num_arrows\n",
    "    \n",
    "    def attack(self):\n",
    "        print(f'Attacking with arrows: arrows left- {self.num_arrows}')\n",
    "\n",
    "wizard1 = Wizard('Merlin', 60, 'merlin@gmail.com')\n",
    "archer1 = Archer('Robin', 100, 'robin@gmail.com')\n",
    "\n",
    "print(wizard1.email)\n"
   ]
  },
  {
   "cell_type": "code",
   "execution_count": 31,
   "metadata": {},
   "outputs": [
    {
     "name": "stdout",
     "output_type": "stream",
     "text": [
      "['__class__', '__delattr__', '__dict__', '__dir__', '__doc__', '__eq__', '__format__', '__ge__', '__getattribute__', '__getstate__', '__gt__', '__hash__', '__init__', '__init_subclass__', '__le__', '__lt__', '__module__', '__ne__', '__new__', '__reduce__', '__reduce_ex__', '__repr__', '__setattr__', '__sizeof__', '__str__', '__subclasshook__', '__weakref__', 'attack', 'email', 'name', 'power', 'sign_in']\n"
     ]
    }
   ],
   "source": [
    "# inheritance\n",
    "# made the parent class user that every player has to inherit\n",
    "class User(object):\n",
    "    def __init__(self, email):\n",
    "        self.email = email\n",
    "    def sign_in(self):\n",
    "        print('Logged in.')\n",
    "\n",
    "\n",
    "# placing the parent class in the brackets this new class automatically inherits the class\n",
    "class Wizard(User):\n",
    "    def __init__(self, name, power, email):\n",
    "        # using super() to grab from the parent class\n",
    "        super().__init__(email)\n",
    "        self.name = name\n",
    "        self.power = power\n",
    "\n",
    "    def attack(self):\n",
    "        print(f'Attacking with the power of {self.power}')\n",
    "\n",
    "class Archer(User):\n",
    "    def __init__(self, name, num_arrows, email):\n",
    "        super().__init__(email)\n",
    "        self.name = name\n",
    "        self.num_arrows = num_arrows\n",
    "    \n",
    "    def attack(self):\n",
    "        print(f'Attacking with arrows: arrows left- {self.num_arrows}')\n",
    "\n",
    "wizard1 = Wizard('Merlin', 60, 'merlin@gmail.com')\n",
    "archer1 = Archer('Robin', 100, 'robin@gmail.com')\n",
    "\n",
    "print(dir(wizard1))"
   ]
  },
  {
   "cell_type": "code",
   "execution_count": 39,
   "metadata": {},
   "outputs": [
    {
     "name": "stdout",
     "output_type": "stream",
     "text": [
      "deleted!\n",
      "red\n",
      "action_figure\n",
      "5\n",
      "{'name': 'yoyo', 'has_pets': False}\n"
     ]
    }
   ],
   "source": [
    "class Toy():\n",
    "    def __init__(self, color, age):\n",
    "        self.color = color\n",
    "        self.age = age\n",
    "        self.my_dict = {\n",
    "            'name': 'yoyo',\n",
    "            'has_pets' : False\n",
    "        }\n",
    "    \n",
    "    def __str__(self):\n",
    "        return f'{self.color}'\n",
    "    \n",
    "    def __len__(self):\n",
    "        return 5\n",
    "    \n",
    "    def __getitem__(self, i):\n",
    "        return self.my_dict\n",
    "\n",
    "action_figure = Toy('red', 0)\n",
    "print(action_figure.__str__())\n",
    "print(str('action_figure'))\n",
    "print(len(action_figure))\n",
    "print(action_figure['name'])"
   ]
  },
  {
   "cell_type": "code",
   "execution_count": 40,
   "metadata": {},
   "outputs": [
    {
     "name": "stdout",
     "output_type": "stream",
     "text": [
      "1000\n",
      "2\n",
      "[1, 2, 3, 4, 5, 6]\n"
     ]
    }
   ],
   "source": [
    "class SuperList(list):\n",
    "    def __len__(self):\n",
    "        return 1000\n",
    "\n",
    "super_list = SuperList([1, 2, 3, 4, 5])\n",
    "\n",
    "print(len(super_list))  # Output: 1000\n",
    "\n",
    "print(super_list[1])  # Output: 2\n",
    "\n",
    "super_list.append(6)\n",
    "print(super_list)  # Output: [1, 2, 3, 4, 5, 6]\n",
    "\n"
   ]
  },
  {
   "cell_type": "code",
   "execution_count": 48,
   "metadata": {},
   "outputs": [
    {
     "name": "stdout",
     "output_type": "stream",
     "text": [
      "Ran really fast\n",
      "None\n",
      "Attacking with the power of 50\n",
      "None\n"
     ]
    }
   ],
   "source": [
    "class User():\n",
    "    def sign_in(self):\n",
    "        print('Logged in.')\n",
    "\n",
    "\n",
    "class Wizard(User):\n",
    "    def __init__(self, name, power):\n",
    "        self.name = name\n",
    "        self.power = power\n",
    "\n",
    "    def attack(self):\n",
    "        print(f'Attacking with the power of {self.power}')\n",
    "\n",
    "class Archer(User):\n",
    "    def __init__(self, name, arrows):\n",
    "        self.name = name\n",
    "        self.arrows = arrows\n",
    "    \n",
    "    def check_arrows(self):\n",
    "        print(f'Attacking with arrows: arrows left: {self.arrows}')\n",
    "\n",
    "    def run(self):\n",
    "        print('Ran really fast')\n",
    "\n",
    "class HybridBorg(Wizard, Archer):\n",
    "    def __init__(self, name, power, arrows):\n",
    "        Archer.__init__(self, name, arrows)\n",
    "        Wizard.__init__(self, name, power)\n",
    "\n",
    "\n",
    "hb1 = HybridBorg('borgy', 50, 100)\n",
    "\n",
    "\n",
    "print(hb1.run())\n",
    "print(hb1.attack())"
   ]
  },
  {
   "cell_type": "code",
   "execution_count": 50,
   "metadata": {},
   "outputs": [
    {
     "name": "stdout",
     "output_type": "stream",
     "text": [
      "[<class '__main__.D'>, <class '__main__.B'>, <class '__main__.C'>, <class '__main__.A'>, <class 'object'>]\n"
     ]
    }
   ],
   "source": [
    "#MRO Method Resolution Order\n",
    "class A:\n",
    "    num = 10\n",
    "\n",
    "class B(A):\n",
    "    pass\n",
    "\n",
    "class C(A):\n",
    "    num = 1\n",
    "\n",
    "class D(B, C):\n",
    "    pass\n",
    "\n",
    "\n",
    "print(D.mro())"
   ]
  },
  {
   "cell_type": "code",
   "execution_count": 51,
   "metadata": {},
   "outputs": [
    {
     "name": "stdout",
     "output_type": "stream",
     "text": [
      "[<class '__main__.M'>, <class '__main__.B'>, <class '__main__.A'>, <class '__main__.X'>, <class '__main__.Y'>, <class '__main__.Z'>, <class 'object'>]\n"
     ]
    }
   ],
   "source": [
    "class X:pass\n",
    "class Y:pass\n",
    "class Z:pass\n",
    "class A(X,Y):pass\n",
    "class B(Y,Z):pass\n",
    "class M(B,A,Z):pass\n",
    "\n",
    "print(M.mro())"
   ]
  },
  {
   "cell_type": "code",
   "execution_count": null,
   "metadata": {},
   "outputs": [],
   "source": []
  }
 ],
 "metadata": {
  "kernelspec": {
   "display_name": "Python 3",
   "language": "python",
   "name": "python3"
  },
  "language_info": {
   "codemirror_mode": {
    "name": "ipython",
    "version": 3
   },
   "file_extension": ".py",
   "mimetype": "text/x-python",
   "name": "python",
   "nbconvert_exporter": "python",
   "pygments_lexer": "ipython3",
   "version": "3.11.3"
  },
  "orig_nbformat": 4
 },
 "nbformat": 4,
 "nbformat_minor": 2
}
